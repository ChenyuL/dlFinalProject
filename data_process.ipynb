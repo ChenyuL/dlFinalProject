{
  "nbformat": 4,
  "nbformat_minor": 0,
  "metadata": {
    "colab": {
      "name": "data_process.ipynb",
      "provenance": [],
      "collapsed_sections": []
    },
    "kernelspec": {
      "name": "python3",
      "display_name": "Python 3"
    },
    "language_info": {
      "name": "python"
    }
  },
  "cells": [
    {
      "cell_type": "code",
      "source": [
        "!pip install kora -q"
      ],
      "metadata": {
        "id": "K5T8F3UhAqRd"
      },
      "execution_count": null,
      "outputs": []
    },
    {
      "cell_type": "code",
      "source": [
        "import torch\n",
        "from torch.utils.data import Dataset\n",
        "import os\n",
        "import pickle\n",
        "import argparse\n",
        "from collections import defaultdict\n",
        "import pandas as pd\n",
        "import numpy as np\n",
        "import gzip\n",
        "import shutil\n",
        "import spacy \n",
        "import pandas as pd \n",
        "from tqdm import tqdm\n",
        "from collections import Counter\n",
        "import kora.install.rdkit\n",
        "import matplotlib.pyplot as plt\n",
        "import numpy as np\n",
        "import pandas as pd\n",
        "from rdkit import Chem\n",
        "from rdkit.Chem import Draw, MolFromSmiles, MolToSmiles\n",
        "import math\n",
        "import torch.nn as nn\n",
        "from rdkit import Chem\n",
        "from rdkit import rdBase"
      ],
      "metadata": {
        "id": "eE0crBstAmYl"
      },
      "execution_count": null,
      "outputs": []
    },
    {
      "cell_type": "code",
      "source": [
        "from google.colab import drive\n",
        "drive.mount('/content/drive')"
      ],
      "metadata": {
        "id": "C9UxphcmAteY"
      },
      "execution_count": null,
      "outputs": []
    },
    {
      "cell_type": "code",
      "source": [
        "import torch\n",
        "import math\n",
        "import torch.nn as nn\n",
        "from rdkit import Chem\n",
        "from rdkit import rdBase\n",
        "rdBase.DisableLog('rdApp.*')\n",
        "\n",
        "def split(sm):\n",
        "    sm_couples = []\n",
        "    i = 0\n",
        "    while i < len(sm):\n",
        "        if i == len(sm) - 1:\n",
        "            sm_couples.append(sm[i])\n",
        "            i += 1\n",
        "        elif sm[i] == '%':\n",
        "            sm_couples.append(sm[i:i+3])\n",
        "            i += 3\n",
        "        elif sm[i:i+2] in set(['Cl', 'Ca', 'Cu', 'Br', 'Be', 'Ba', 'Bi', 'Si', 'Se', 'Sr', 'Na', 'Ni', 'Rb', 'Ra', 'Xe', 'Li', 'Al', ' As', 'Ag', 'Au',\\\n",
        "                            'Mg', 'Mn', 'Te', 'Zn', 'si', 'se', 'te', 'He', 'Kr', 'Fe', '+2', '+3', '+4', '-2', '-3', '-4']):\n",
        "            sm_couples.append(sm[i:i+2])\n",
        "            i += 2\n",
        "        else:\n",
        "            sm_couples.append(sm[i])\n",
        "            i += 1\n",
        "    return ' '.join(sm_couples)"
      ],
      "metadata": {
        "id": "Urf5Dfv1A0WW"
      },
      "execution_count": null,
      "outputs": []
    },
    {
      "cell_type": "code",
      "execution_count": null,
      "metadata": {
        "id": "uyJoaGl_AlE2"
      },
      "outputs": [],
      "source": [
        "with gzip.open('/content/drive/MyDrive/data/chembl_24_chemreps.txt.gz', 'rb') as f_in:\n",
        "    with open('file.txt', 'wb') as f_out:\n",
        "        shutil.copyfileobj(f_in, f_out)\n",
        "\n",
        "df = pd.read_csv('file.txt', sep = '\\t')\n",
        "\n",
        "smiles  = df['canonical_smiles'].values\n",
        "\n",
        "pro_sms = []\n",
        "for sm in smiles:\n",
        "    sm = ' '.join(list(sm))\n",
        "    before = ['C l -', 'C l', 'O -', 'N +', 'n +', 'B r -', 'B r', 'N a +', 'N a', 'I -', 'S i']\n",
        "    after = ['Cl-', 'Cl', 'O-', 'N+', 'n+', 'Br-', 'Br', 'Na+', 'Na', 'I-', 'Si']\n",
        "    for b,a in zip(before, after):\n",
        "        sm = sm.replace(b, a)\n",
        "    pro_sms.append(sm)\n",
        "df['processed_smiles'] = pro_sms\n",
        "\n",
        "to_drop = []\n",
        "for i, sm in enumerate(smiles):\n",
        "    if len(sm) > 100:\n",
        "        to_drop.append(i)\n",
        "    if df['chembl_id'][i]=='CHEMBL1201364':\n",
        "        to_drop.append(i)\n",
        "\n",
        "df_dropped = df.drop(to_drop)\n",
        "df_dropped = df_dropped.drop(['standard_inchi', 'standard_inchi_key'], axis=1)\n",
        "\n",
        "df_dropped.to_csv('/content/drive/MyDrive/data/chembl_24_dropped.csv')\n",
        "df_dropped = pd.read_csv('/content/drive/MyDrive/data/chembl_24_dropped.csv')\n",
        "\n",
        "with open('/content/drive/MyDrive/data/chembl_24_corpus.txt', 'w') as f:\n",
        "    for sm in tqdm(df_dropped['canonical_smiles']):\n",
        "        f.write(split(sm) + '\\n')\n",
        "\n",
        "with open('/content/drive/MyDrive/data/chembl_24_corpus.txt', \"r\", encoding='utf-8') as f:\n",
        "    vocab = Vocab(f, min_freq=500)\n",
        "vocab.save_vocab('/content/drive/MyDrive/data/vocab24.pkl')"
      ]
    }
  ]
}